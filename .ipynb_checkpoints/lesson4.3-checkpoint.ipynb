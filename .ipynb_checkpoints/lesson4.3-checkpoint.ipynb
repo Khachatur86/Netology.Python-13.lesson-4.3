{
 "cells": [
  {
   "cell_type": "code",
   "execution_count": 1,
   "metadata": {},
   "outputs": [],
   "source": [
    "import requests\n",
    "from pprint import pprint\n",
    "\n",
    "import pandas as pd\n",
    "import numpy as np\n",
    "import matplotlib.pyplot as plt\n",
    "\n",
    "%matplotlib inline\n",
    "\n",
    "\n",
    "from scipy.cluster.vq import whiten, kmeans2"
   ]
  },
  {
   "cell_type": "code",
   "execution_count": 2,
   "metadata": {},
   "outputs": [],
   "source": [
    "AuthToken = '57f9cd1d194541488a033d06f9c8afef'"
   ]
  },
  {
   "cell_type": "code",
   "execution_count": 3,
   "metadata": {},
   "outputs": [],
   "source": [
    "def api(url):\n",
    "    result = requests.get(url, headers = \n",
    "                          { 'X-Auth-Token': '57f9cd1d194541488a033d06f9c8afef' }).json()\n",
    "    return result"
   ]
  },
  {
   "cell_type": "code",
   "execution_count": 4,
   "metadata": {},
   "outputs": [],
   "source": [
    "def get_requests(url):\n",
    "    result = requests.get(url).json()\n",
    "    return result"
   ]
  },
  {
   "cell_type": "code",
   "execution_count": 5,
   "metadata": {},
   "outputs": [
    {
     "name": "stdout",
     "output_type": "stream",
     "text": [
      "[{'_links': {'fixtures': {'href': 'http://api.football-data.org/v1/competitions/444/fixtures'},\n",
      "             'leagueTable': {'href': 'http://api.football-data.org/v1/competitions/444/leagueTable'},\n",
      "             'self': {'href': 'http://api.football-data.org/v1/competitions/444'},\n",
      "             'teams': {'href': 'http://api.football-data.org/v1/competitions/444/teams'}},\n",
      "  'caption': 'Campeonato Brasileiro da Série A',\n",
      "  'currentMatchday': 38,\n",
      "  'id': 444,\n",
      "  'lastUpdated': '2017-12-11T07:05:27Z',\n",
      "  'league': 'BSA',\n",
      "  'numberOfGames': 380,\n",
      "  'numberOfMatchdays': 38,\n",
      "  'numberOfTeams': 20,\n",
      "  'year': '2017'},\n",
      " {'_links': {'fixtures': {'href': 'http://api.football-data.org/v1/competitions/445/fixtures'},\n",
      "             'leagueTable': {'href': 'http://api.football-data.org/v1/competitions/445/leagueTable'},\n",
      "             'self': {'href': 'http://api.football-data.org/v1/competitions/445'},\n",
      "             'teams': {'href': 'http://api.football-data.org/v1/competitions/445/teams'}},\n",
      "  'caption': 'Premier League 2017/18',\n",
      "  'currentMatchday': 34,\n",
      "  'id': 445,\n",
      "  'lastUpdated': '2018-04-15T17:00:25Z',\n",
      "  'league': 'PL',\n",
      "  'numberOfGames': 380,\n",
      "  'numberOfMatchdays': 38,\n",
      "  'numberOfTeams': 20,\n",
      "  'year': '2017'},\n",
      " {'_links': {'fixtures': {'href': 'http://api.football-data.org/v1/competitions/446/fixtures'},\n",
      "             'leagueTable': {'href': 'http://api.football-data.org/v1/competitions/446/leagueTable'},\n",
      "             'self': {'href': 'http://api.football-data.org/v1/competitions/446'},\n",
      "             'teams': {'href': 'http://api.football-data.org/v1/competitions/446/teams'}},\n",
      "  'caption': 'Championship 2017/18',\n",
      "  'currentMatchday': 43,\n",
      "  'id': 446,\n",
      "  'lastUpdated': '2018-04-15T13:10:17Z',\n",
      "  'league': 'ELC',\n",
      "  'numberOfGames': 552,\n",
      "  'numberOfMatchdays': 46,\n",
      "  'numberOfTeams': 24,\n",
      "  'year': '2017'},\n",
      " {'_links': {'fixtures': {'href': 'http://api.football-data.org/v1/competitions/447/fixtures'},\n",
      "             'leagueTable': {'href': 'http://api.football-data.org/v1/competitions/447/leagueTable'},\n",
      "             'self': {'href': 'http://api.football-data.org/v1/competitions/447'},\n",
      "             'teams': {'href': 'http://api.football-data.org/v1/competitions/447/teams'}},\n",
      "  'caption': 'League One 2017/18',\n",
      "  'currentMatchday': 43,\n",
      "  'id': 447,\n",
      "  'lastUpdated': '2018-04-14T16:10:28Z',\n",
      "  'league': 'EL1',\n",
      "  'numberOfGames': 552,\n",
      "  'numberOfMatchdays': 46,\n",
      "  'numberOfTeams': 24,\n",
      "  'year': '2017'},\n",
      " {'_links': {'fixtures': {'href': 'http://api.football-data.org/v1/competitions/448/fixtures'},\n",
      "             'leagueTable': {'href': 'http://api.football-data.org/v1/competitions/448/leagueTable'},\n",
      "             'self': {'href': 'http://api.football-data.org/v1/competitions/448'},\n",
      "             'teams': {'href': 'http://api.football-data.org/v1/competitions/448/teams'}},\n",
      "  'caption': 'League Two 2017/18',\n",
      "  'currentMatchday': 43,\n",
      "  'id': 448,\n",
      "  'lastUpdated': '2018-04-14T16:10:33Z',\n",
      "  'league': 'EL2',\n",
      "  'numberOfGames': 552,\n",
      "  'numberOfMatchdays': 46,\n",
      "  'numberOfTeams': 24,\n",
      "  'year': '2017'},\n",
      " {'_links': {'fixtures': {'href': 'http://api.football-data.org/v1/competitions/449/fixtures'},\n",
      "             'leagueTable': {'href': 'http://api.football-data.org/v1/competitions/449/leagueTable'},\n",
      "             'self': {'href': 'http://api.football-data.org/v1/competitions/449'},\n",
      "             'teams': {'href': 'http://api.football-data.org/v1/competitions/449/teams'}},\n",
      "  'caption': 'Eredivisie 2017/18',\n",
      "  'currentMatchday': 31,\n",
      "  'id': 449,\n",
      "  'lastUpdated': '2018-04-15T16:50:05Z',\n",
      "  'league': 'DED',\n",
      "  'numberOfGames': 306,\n",
      "  'numberOfMatchdays': 34,\n",
      "  'numberOfTeams': 18,\n",
      "  'year': '2017'},\n",
      " {'_links': {'fixtures': {'href': 'http://api.football-data.org/v1/competitions/450/fixtures'},\n",
      "             'leagueTable': {'href': 'http://api.football-data.org/v1/competitions/450/leagueTable'},\n",
      "             'self': {'href': 'http://api.football-data.org/v1/competitions/450'},\n",
      "             'teams': {'href': 'http://api.football-data.org/v1/competitions/450/teams'}},\n",
      "  'caption': 'Ligue 1 2017/18',\n",
      "  'currentMatchday': 33,\n",
      "  'id': 450,\n",
      "  'lastUpdated': '2018-04-15T17:10:08Z',\n",
      "  'league': 'FL1',\n",
      "  'numberOfGames': 380,\n",
      "  'numberOfMatchdays': 38,\n",
      "  'numberOfTeams': 20,\n",
      "  'year': '2017'},\n",
      " {'_links': {'fixtures': {'href': 'http://api.football-data.org/v1/competitions/451/fixtures'},\n",
      "             'leagueTable': {'href': 'http://api.football-data.org/v1/competitions/451/leagueTable'},\n",
      "             'self': {'href': 'http://api.football-data.org/v1/competitions/451'},\n",
      "             'teams': {'href': 'http://api.football-data.org/v1/competitions/451/teams'}},\n",
      "  'caption': 'Ligue 2 2017/18',\n",
      "  'currentMatchday': 33,\n",
      "  'id': 451,\n",
      "  'lastUpdated': '2018-04-14T15:00:52Z',\n",
      "  'league': 'FL2',\n",
      "  'numberOfGames': 380,\n",
      "  'numberOfMatchdays': 38,\n",
      "  'numberOfTeams': 20,\n",
      "  'year': '2017'},\n",
      " {'_links': {'fixtures': {'href': 'http://api.football-data.org/v1/competitions/452/fixtures'},\n",
      "             'leagueTable': {'href': 'http://api.football-data.org/v1/competitions/452/leagueTable'},\n",
      "             'self': {'href': 'http://api.football-data.org/v1/competitions/452'},\n",
      "             'teams': {'href': 'http://api.football-data.org/v1/competitions/452/teams'}},\n",
      "  'caption': '1. Bundesliga 2017/18',\n",
      "  'currentMatchday': 30,\n",
      "  'id': 452,\n",
      "  'lastUpdated': '2018-04-15T18:10:04Z',\n",
      "  'league': 'BL1',\n",
      "  'numberOfGames': 306,\n",
      "  'numberOfMatchdays': 34,\n",
      "  'numberOfTeams': 18,\n",
      "  'year': '2017'},\n",
      " {'_links': {'fixtures': {'href': 'http://api.football-data.org/v1/competitions/453/fixtures'},\n",
      "             'leagueTable': {'href': 'http://api.football-data.org/v1/competitions/453/leagueTable'},\n",
      "             'self': {'href': 'http://api.football-data.org/v1/competitions/453'},\n",
      "             'teams': {'href': 'http://api.football-data.org/v1/competitions/453/teams'}},\n",
      "  'caption': '2. Bundesliga 2017/18',\n",
      "  'currentMatchday': 30,\n",
      "  'id': 453,\n",
      "  'lastUpdated': '2018-04-15T13:40:09Z',\n",
      "  'league': 'BL2',\n",
      "  'numberOfGames': 306,\n",
      "  'numberOfMatchdays': 34,\n",
      "  'numberOfTeams': 18,\n",
      "  'year': '2017'},\n",
      " {'_links': {'fixtures': {'href': 'http://api.football-data.org/v1/competitions/455/fixtures'},\n",
      "             'leagueTable': {'href': 'http://api.football-data.org/v1/competitions/455/leagueTable'},\n",
      "             'self': {'href': 'http://api.football-data.org/v1/competitions/455'},\n",
      "             'teams': {'href': 'http://api.football-data.org/v1/competitions/455/teams'}},\n",
      "  'caption': 'Primera Division 2017',\n",
      "  'currentMatchday': 32,\n",
      "  'id': 455,\n",
      "  'lastUpdated': '2018-04-15T18:00:24Z',\n",
      "  'league': 'PD',\n",
      "  'numberOfGames': 380,\n",
      "  'numberOfMatchdays': 38,\n",
      "  'numberOfTeams': 20,\n",
      "  'year': '2017'},\n",
      " {'_links': {'fixtures': {'href': 'http://api.football-data.org/v1/competitions/456/fixtures'},\n",
      "             'leagueTable': {'href': 'http://api.football-data.org/v1/competitions/456/leagueTable'},\n",
      "             'self': {'href': 'http://api.football-data.org/v1/competitions/456'},\n",
      "             'teams': {'href': 'http://api.football-data.org/v1/competitions/456/teams'}},\n",
      "  'caption': 'Serie A 2017/18',\n",
      "  'currentMatchday': 32,\n",
      "  'id': 456,\n",
      "  'lastUpdated': '2018-04-15T18:10:12Z',\n",
      "  'league': 'SA',\n",
      "  'numberOfGames': 380,\n",
      "  'numberOfMatchdays': 38,\n",
      "  'numberOfTeams': 20,\n",
      "  'year': '2017'},\n",
      " {'_links': {'fixtures': {'href': 'http://api.football-data.org/v1/competitions/457/fixtures'},\n",
      "             'leagueTable': {'href': 'http://api.football-data.org/v1/competitions/457/leagueTable'},\n",
      "             'self': {'href': 'http://api.football-data.org/v1/competitions/457'},\n",
      "             'teams': {'href': 'http://api.football-data.org/v1/competitions/457/teams'}},\n",
      "  'caption': 'Primeira Liga 2017/18',\n",
      "  'currentMatchday': 30,\n",
      "  'id': 457,\n",
      "  'lastUpdated': '2018-04-15T17:20:05Z',\n",
      "  'league': 'PPL',\n",
      "  'numberOfGames': 306,\n",
      "  'numberOfMatchdays': 34,\n",
      "  'numberOfTeams': 18,\n",
      "  'year': '2017'},\n",
      " {'_links': {'fixtures': {'href': 'http://api.football-data.org/v1/competitions/458/fixtures'},\n",
      "             'leagueTable': {'href': 'http://api.football-data.org/v1/competitions/458/leagueTable'},\n",
      "             'self': {'href': 'http://api.football-data.org/v1/competitions/458'},\n",
      "             'teams': {'href': 'http://api.football-data.org/v1/competitions/458/teams'}},\n",
      "  'caption': 'DFB-Pokal 2017/18',\n",
      "  'currentMatchday': 5,\n",
      "  'id': 458,\n",
      "  'lastUpdated': '2018-04-03T06:26:04Z',\n",
      "  'league': 'DFB',\n",
      "  'numberOfGames': 62,\n",
      "  'numberOfMatchdays': 6,\n",
      "  'numberOfTeams': 64,\n",
      "  'year': '2017'},\n",
      " {'_links': {'fixtures': {'href': 'http://api.football-data.org/v1/competitions/459/fixtures'},\n",
      "             'leagueTable': {'href': 'http://api.football-data.org/v1/competitions/459/leagueTable'},\n",
      "             'self': {'href': 'http://api.football-data.org/v1/competitions/459'},\n",
      "             'teams': {'href': 'http://api.football-data.org/v1/competitions/459/teams'}},\n",
      "  'caption': 'Serie B 2017/18',\n",
      "  'currentMatchday': 36,\n",
      "  'id': 459,\n",
      "  'lastUpdated': '2018-04-15T07:00:15Z',\n",
      "  'league': 'SB',\n",
      "  'numberOfGames': 462,\n",
      "  'numberOfMatchdays': 42,\n",
      "  'numberOfTeams': 22,\n",
      "  'year': '2017'},\n",
      " {'_links': {'fixtures': {'href': 'http://api.football-data.org/v1/competitions/464/fixtures'},\n",
      "             'leagueTable': {'href': 'http://api.football-data.org/v1/competitions/464/leagueTable'},\n",
      "             'self': {'href': 'http://api.football-data.org/v1/competitions/464'},\n",
      "             'teams': {'href': 'http://api.football-data.org/v1/competitions/464/teams'}},\n",
      "  'caption': 'Champions League 2017/18',\n",
      "  'currentMatchday': 9,\n",
      "  'id': 464,\n",
      "  'lastUpdated': '2018-04-14T10:00:16Z',\n",
      "  'league': 'CL',\n",
      "  'numberOfGames': 124,\n",
      "  'numberOfMatchdays': 10,\n",
      "  'numberOfTeams': 32,\n",
      "  'year': '2017'},\n",
      " {'_links': {'fixtures': {'href': 'http://api.football-data.org/v1/competitions/466/fixtures'},\n",
      "             'leagueTable': {'href': 'http://api.football-data.org/v1/competitions/466/leagueTable'},\n",
      "             'self': {'href': 'http://api.football-data.org/v1/competitions/466'},\n",
      "             'teams': {'href': 'http://api.football-data.org/v1/competitions/466/teams'}},\n",
      "  'caption': 'Australian A-League',\n",
      "  'currentMatchday': 27,\n",
      "  'id': 466,\n",
      "  'lastUpdated': '2018-04-15T09:10:00Z',\n",
      "  'league': 'AAL',\n",
      "  'numberOfGames': 135,\n",
      "  'numberOfMatchdays': 27,\n",
      "  'numberOfTeams': 10,\n",
      "  'year': '2017'}]\n"
     ]
    }
   ],
   "source": [
    "teams = api('http://api.football-data.org/v1/competitions')\n",
    "pprint(teams)"
   ]
  },
  {
   "cell_type": "code",
   "execution_count": 6,
   "metadata": {},
   "outputs": [
    {
     "name": "stdout",
     "output_type": "stream",
     "text": [
      "Кластеризация команд по количеству голов и побед\n",
      "[{'goals': 93, 'wins': 28},\n",
      " {'goals': 63, 'wins': 22},\n",
      " {'goals': 78, 'wins': 20},\n",
      " {'goals': 65, 'wins': 20},\n",
      " {'goals': 57, 'wins': 18},\n",
      " {'goals': 62, 'wins': 16},\n",
      " {'goals': 33, 'wins': 14},\n",
      " {'goals': 49, 'wins': 11},\n",
      " {'goals': 39, 'wins': 11},\n",
      " {'goals': 35, 'wins': 11},\n",
      " {'goals': 41, 'wins': 9},\n",
      " {'goals': 42, 'wins': 10},\n",
      " {'goals': 31, 'wins': 8},\n",
      " {'goals': 27, 'wins': 9},\n",
      " {'goals': 40, 'wins': 8},\n",
      " {'goals': 36, 'wins': 8},\n",
      " {'goals': 27, 'wins': 8},\n",
      " {'goals': 33, 'wins': 5},\n",
      " {'goals': 30, 'wins': 6},\n",
      " {'goals': 27, 'wins': 4}]\n"
     ]
    }
   ],
   "source": [
    "TableLeague = []\n",
    "for value in teams:\n",
    "    TableLeague.append(api(value['_links']['leagueTable']['href']))\n",
    "\n",
    "list_result = []\n",
    "for value in TableLeague[1]['standing']:\n",
    "    result = {}\n",
    "    result['goals'] = value['goals']\n",
    "    result['wins'] = value['wins']\n",
    "    list_result.append(result)\n",
    "\n",
    "print('Кластеризация команд по количеству голов и побед')\n",
    "pprint(list_result)"
   ]
  },
  {
   "cell_type": "code",
   "execution_count": 7,
   "metadata": {},
   "outputs": [
    {
     "data": {
      "text/plain": [
       "array([[5.15443146, 4.49454994],\n",
       "       [3.49171163, 3.53143209],\n",
       "       [4.32307155, 3.21039281],\n",
       "       [3.60255962, 3.21039281],\n",
       "       [3.15916767, 2.88935353],\n",
       "       [3.43628764, 2.56831425],\n",
       "       [1.82899181, 2.24727497],\n",
       "       [2.71577572, 1.76571605],\n",
       "       [2.16153577, 1.76571605],\n",
       "       [1.9398398 , 1.76571605],\n",
       "       [2.27238376, 1.44467677],\n",
       "       [2.32780776, 1.60519641],\n",
       "       [1.71814382, 1.28415712],\n",
       "       [1.49644784, 1.44467677],\n",
       "       [2.21695977, 1.28415712],\n",
       "       [1.99526379, 1.28415712],\n",
       "       [1.49644784, 1.28415712],\n",
       "       [1.82899181, 0.8025982 ],\n",
       "       [1.66271983, 0.96311784],\n",
       "       [1.49644784, 0.64207856]])"
      ]
     },
     "execution_count": 7,
     "metadata": {},
     "output_type": "execute_result"
    }
   ],
   "source": [
    "go = pd.DataFrame(list_result)\n",
    "go_massiv = whiten(go.as_matrix())\n",
    "go_massiv"
   ]
  },
  {
   "cell_type": "code",
   "execution_count": 8,
   "metadata": {},
   "outputs": [
    {
     "data": {
      "text/plain": [
       "<matplotlib.axes._subplots.AxesSubplot at 0x10dc3f9b0>"
      ]
     },
     "execution_count": 8,
     "metadata": {},
     "output_type": "execute_result"
    },
    {
     "data": {
      "image/png": "[encoded data removed]",
      "text/plain": [
       "<matplotlib.figure.Figure at 0x1060385f8>"
      ]
     },
     "metadata": {},
     "output_type": "display_data"
    }
   ],
   "source": [
    "centroids, cluster_map = kmeans2(go_massiv, 3)\n",
    "colors_map = {0: 'r', 1: 'g', 2: 'b', 3: 'y', 4: 'm'}\n",
    "colors = [colors_map[c] for c in cluster_map]\n",
    "go.plot.scatter(x='wins', y='goals', c=colors, s=100)\n"
   ]
  },
  {
   "cell_type": "code",
   "execution_count": 9,
   "metadata": {},
   "outputs": [
    {
     "data": {
      "text/plain": [
       "<matplotlib.axes._subplots.AxesSubplot at 0x10eea5940>"
      ]
     },
     "execution_count": 9,
     "metadata": {},
     "output_type": "execute_result"
    },
    {
     "data": {
      "image/png": "[encoded data removed]",
      "text/plain": [
       "<matplotlib.figure.Figure at 0x10d2edd68>"
      ]
     },
     "metadata": {},
     "output_type": "display_data"
    }
   ],
   "source": [
    "\n",
    "centroids, cluster_map = kmeans2(go_massiv, 5)\n",
    "colors_map = {0: 'r', 1: 'g', 2: 'b', 3: 'y', 4: 'm'}\n",
    "colors = [colors_map[c] for c in cluster_map]\n",
    "go.plot.scatter(x='wins', y='goals', c=colors, s=100)\n"
   ]
  },
  {
   "cell_type": "code",
   "execution_count": null,
   "metadata": {},
   "outputs": [],
   "source": []
  }
 ],
 "metadata": {
  "kernelspec": {
   "display_name": "Python 3",
   "language": "python",
   "name": "python3"
  },
  "language_info": {
   "codemirror_mode": {
    "name": "ipython",
    "version": 3
   },
   "file_extension": ".py",
   "mimetype": "text/x-python",
   "name": "python",
   "nbconvert_exporter": "python",
   "pygments_lexer": "ipython3",
   "version": "3.6.4"
  }
 },
 "nbformat": 4,
 "nbformat_minor": 2
}
